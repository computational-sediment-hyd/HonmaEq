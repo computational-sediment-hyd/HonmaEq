{
 "cells": [
  {
   "cell_type": "code",
   "execution_count": 1,
   "id": "9faa7581-d575-48ce-86d1-137fe067df91",
   "metadata": {},
   "outputs": [],
   "source": [
    "from IPython.display import IFrame, SVG"
   ]
  },
  {
   "cell_type": "markdown",
   "id": "d0d81050-9fd4-4c46-bfcd-0088e2850020",
   "metadata": {},
   "source": [
    "# 備忘録：本間の越流公式について"
   ]
  },
  {
   "cell_type": "markdown",
   "id": "aad86292-8f4d-4d8f-9495-90d512411a4f",
   "metadata": {},
   "source": [
    "## 概要\n",
    "\n",
    "本間の越流公式とは越流堤上下流の水位と通過流量の関係を示した実験式です。\n",
    "\n",
    "以下の2報で発表されたのが最初であり、現在でも数値解析、設計などで現役バリバリで使われています。\n",
    "\n",
    " - [本間仁：低溢流堰堤の流量係数（第一編）,1940](http://library.jsce.or.jp/Image_DB/mag/m_jsce/26-06/26-6-12899.pdf)\n",
    " - [本間仁：低溢流堰堤の流量係数（第二編）,1940](http://library.jsce.or.jp/Image_DB/mag/m_jsce/26-09/26-9-12910.pdf)\n"
   ]
  },
  {
   "cell_type": "markdown",
   "id": "43421882-2895-4258-879b-eb7695e0a42f",
   "metadata": {},
   "source": [
    "## 本間の越流公式\n",
    "\n",
    "越流堤上下流の水位と通過流量の関係を示した下式が本間の越流公式と呼ばれています。\n",
    "\n",
    "本式では、上流側の流速（接近流速と呼ばれる）が0であることが条件となっています。接近流速が0でない場合の補正式も提案されています。（例えば、栗城の方法など。\n",
    "[河川砂防技術基準　調査編 第7章 第3節－5](https://www.mlit.go.jp/river/shishin_guideline/gijutsu/gijutsukijunn/chousa/pdf/07.pdf#page=6)参照)\n"
   ]
  },
  {
   "cell_type": "markdown",
   "id": "6b59defd-1a62-40c6-a284-d77273e77e49",
   "metadata": {},
   "source": [
    "\n",
    "\n",
    "$$\n",
    "\\begin{align}\n",
    "Q &= \\left\\{\n",
    "\\begin{array}{ll}\n",
    "m h_1 B \\sqrt{2gh_1} & \\left(\\dfrac{h_2}{h_1} \\lt \\dfrac{2}{3}\\right) : 完全越流\\\\\n",
    "\\dfrac{3\\sqrt{3}}{2}m h_2 B \\sqrt{2g(h_1-h_2)} & \\left(\\dfrac{h_2}{h_1}  \\geq \\dfrac{2}{3}\\right) : 潜り越流\n",
    "\\end{array}\n",
    "\\right.\n",
    "\\end{align}\n",
    "$$\n",
    "\n",
    "ここに、$B$:越流堤長、$m$:流量係数$=\\dfrac{2}{3}\\sqrt{\\dfrac{1}{3}} \\mu$、$\\mu$:遠心力による係数(1以下)、$m$は広幅の台形堰の場合、0.35程度となるため、通常$m=0.35$とすることがほとんどである。"
   ]
  },
  {
   "cell_type": "markdown",
   "id": "d262c2b9-35f3-48a8-9ece-ea8456b86ac7",
   "metadata": {},
   "source": [
    "![a](https://computational-sediment-hyd.github.io/HonmaEq/honma.png)\n",
    "\n",
    "出典：[河川砂防技術基準　調査編 第7章 第3節－5](https://www.mlit.go.jp/river/shishin_guideline/gijutsu/gijutsukijunn/chousa/pdf/07.pdf#page=6)"
   ]
  },
  {
   "cell_type": "markdown",
   "id": "c9c9dbb4-65dd-493b-808b-47ba285ba36b",
   "metadata": {},
   "source": [
    "## なぜ未だに多用されるのか"
   ]
  },
  {
   "cell_type": "markdown",
   "id": "25a72ff0-985f-4e9c-981f-90f7669f4b7d",
   "metadata": {},
   "source": [
    "なぜこのような古典的な式が未だに多用されるかについて考えてみる。\n",
    "\n",
    "元々は下図のように越流堤の背面（下流側）において射流や流れの剥離による渦などを厳密に計算することが難しいために、実験式が提案されています。\n",
    "\n",
    "現在の計算技術では様々なモデルを組み合わせることによって一定精度で計算することは可能と考えられます。\n",
    "\n",
    "一方で、河川流計算は浅水流近似式（Saint-Venantの式）を使用することがほとんどであり、それのみでは正確に計算することは難しいです。\n",
    "\n",
    "そう考えると、越流堰近傍の厳密な流れ場の結果が必要になるケースはほとんどなく、概略の越流量が把握できれば良いため、この部分の計算にそれほど労力を割くメリットが無いことが本間の越流公式が未だに多用される要因と思われます。\n",
    "\n",
    "ただし、近年では河川流計算の主流が横断面一次元から平面二次元に変わってきているため、本間の越流公式についても平面二次元計算に対応できるようなアップデートは必要と考えられます。"
   ]
  },
  {
   "cell_type": "code",
   "execution_count": 2,
   "id": "eca06a2b-cd60-41b8-b5a6-34c324a49c22",
   "metadata": {},
   "outputs": [
    {
     "data": {
      "text/html": [
       "\n",
       "        <iframe\n",
       "            width=\"600\"\n",
       "            height=\"600\"\n",
       "            src=\"https://computational-sediment-hyd.github.io/HonmaEq/HonmaEq.pdf\"\n",
       "            frameborder=\"0\"\n",
       "            allowfullscreen\n",
       "            \n",
       "        ></iframe>\n",
       "        "
      ],
      "text/plain": [
       "<IPython.lib.display.IFrame at 0x1ca76acf8f0>"
      ]
     },
     "execution_count": 2,
     "metadata": {},
     "output_type": "execute_result"
    }
   ],
   "source": [
    "IFrame(\"https://computational-sediment-hyd.github.io/HonmaEq/HonmaEq.pdf\", width=600, height=600)"
   ]
  },
  {
   "cell_type": "markdown",
   "id": "3a6f2009-aac5-4c4b-907d-207d08ac8e74",
   "metadata": {},
   "source": [
    "出典：[本間仁：低溢流堰堤の流量係数（第一編）,1940](http://library.jsce.or.jp/Image_DB/mag/m_jsce/26-06/26-6-12899.pdf)"
   ]
  },
  {
   "cell_type": "markdown",
   "id": "d1d86735-10e5-4ef2-b542-91ec8b94fed5",
   "metadata": {},
   "source": [
    "## 表記上の注意"
   ]
  },
  {
   "cell_type": "markdown",
   "id": "6536cf5c-0247-4d3e-b745-17b2a44f33ea",
   "metadata": {},
   "source": [
    "\n",
    "本式には種々の表記方法がある。\n",
    "\n",
    "最も多い事例は下式のとおり、2式それぞれに個別の流量係数があるかのような記載である。\n",
    "\n",
    "$$\n",
    "\\begin{align}\n",
    "Q &= \\left\\{\n",
    "\\begin{array}{ll}\n",
    "m h_1 B \\sqrt{2gh_1} & \\left(\\dfrac{h_2}{h_1} \\lt \\dfrac{2}{3}\\right) : 完全越流\\\\\n",
    "m' h_2 B \\sqrt{2g(h_1-h_2)} & \\left(\\dfrac{h_2}{h_1}  \\geq \\dfrac{2}{3}\\right) : 潜り越流\n",
    "\\end{array}\n",
    "\\right.\n",
    "\\end{align}\n",
    "$$\n",
    "\n",
    "$m=0.35,m'=0.91$\n",
    "\n",
    "\n",
    "例えば、[河川砂防技術基準　調査編 第7章 第3節－5](https://www.mlit.go.jp/river/shishin_guideline/gijutsu/gijutsukijunn/chousa/pdf/07.pdf#page=6)\n",
    "\n",
    "![a](https://computational-sediment-hyd.github.io/HonmaEq/honma02.png)\n",
    "\n",
    "また、別の表記では下式のとおり流量係数を有次元の形式とすることもある。\n",
    "\n",
    "$$\n",
    "\\begin{align}\n",
    "Q &= \\left\\{\n",
    "\\begin{array}{ll}\n",
    "C h_1 B \\sqrt{h_1} & \\left(\\dfrac{h_2}{h_1} \\lt \\dfrac{2}{3}\\right) : 完全越流\\\\\n",
    "C' h_2 B \\sqrt{(h_1-h_2)} & \\left(\\dfrac{h_2}{h_1}  \\geq \\dfrac{2}{3}\\right) : 潜り越流\n",
    "\\end{array}\n",
    "\\right.\n",
    "\\end{align}\n",
    "$$\n",
    "\n",
    "流量係数：$C=1.55,C'=4.03[\\mathrm{m}^{1/2}/\\mathrm{s}]$\n",
    "\n",
    "例えば、水理公式集など\n",
    "\n",
    "\n",
    "それぞれの考えにより表記方法が異なっていると思うが、式の意味を考えると最初の式形が最もわかりやすいと私は思います。"
   ]
  }
 ],
 "metadata": {
  "kernelspec": {
   "display_name": "Python 3 (ipykernel)",
   "language": "python",
   "name": "python3"
  },
  "language_info": {
   "codemirror_mode": {
    "name": "ipython",
    "version": 3
   },
   "file_extension": ".py",
   "mimetype": "text/x-python",
   "name": "python",
   "nbconvert_exporter": "python",
   "pygments_lexer": "ipython3",
   "version": "3.12.3"
  }
 },
 "nbformat": 4,
 "nbformat_minor": 5
}
